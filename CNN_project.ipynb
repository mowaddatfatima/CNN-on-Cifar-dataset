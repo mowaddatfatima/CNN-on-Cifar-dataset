{
  "nbformat": 4,
  "nbformat_minor": 0,
  "metadata": {
    "colab": {
      "provenance": []
    },
    "kernelspec": {
      "name": "python3",
      "display_name": "Python 3"
    },
    "language_info": {
      "name": "python"
    }
  },
  "cells": [
    {
      "cell_type": "markdown",
      "source": [
        "# Import libraries"
      ],
      "metadata": {
        "id": "G0aQH6OZDlIO"
      }
    },
    {
      "cell_type": "code",
      "execution_count": 30,
      "metadata": {
        "id": "2Sgfcwy0E4bP"
      },
      "outputs": [],
      "source": [
        "import numpy as np\n",
        "import pandas as pd\n",
        "import matplotlib.pyplot as plt\n",
        "import seaborn as sns\n",
        "\n",
        "from tensorflow.keras.models import Sequential\n",
        "from tensorflow.keras.layers import Dense,Flatten,Conv2D,AveragePooling2D,MaxPooling2D\n",
        "from sklearn.metrics import classification_report"
      ]
    },
    {
      "cell_type": "markdown",
      "source": [
        "# Call the Data"
      ],
      "metadata": {
        "id": "6B72xOGrDrwX"
      }
    },
    {
      "cell_type": "code",
      "source": [
        "from tensorflow.keras.datasets import cifar10"
      ],
      "metadata": {
        "id": "H-EFASjgE57t"
      },
      "execution_count": 31,
      "outputs": []
    },
    {
      "cell_type": "code",
      "source": [
        "(train_images,train_labels),(test_images,test_labels) = cifar10.load_data()"
      ],
      "metadata": {
        "id": "J-BbOjWzFAly"
      },
      "execution_count": 32,
      "outputs": []
    },
    {
      "cell_type": "code",
      "source": [
        "train_images.shape"
      ],
      "metadata": {
        "colab": {
          "base_uri": "https://localhost:8080/"
        },
        "id": "8o9sLjaGFEup",
        "outputId": "e21a85be-2895-4734-9bce-423ae76edd38"
      },
      "execution_count": 33,
      "outputs": [
        {
          "output_type": "execute_result",
          "data": {
            "text/plain": [
              "(50000, 32, 32, 3)"
            ]
          },
          "metadata": {},
          "execution_count": 33
        }
      ]
    },
    {
      "cell_type": "code",
      "source": [
        "test_images.shape"
      ],
      "metadata": {
        "colab": {
          "base_uri": "https://localhost:8080/"
        },
        "id": "6ldJz_EaFNxp",
        "outputId": "0c3ee346-aa9a-4a94-b941-5a9fa050b873"
      },
      "execution_count": 6,
      "outputs": [
        {
          "output_type": "execute_result",
          "data": {
            "text/plain": [
              "(10000, 32, 32, 3)"
            ]
          },
          "metadata": {},
          "execution_count": 6
        }
      ]
    },
    {
      "cell_type": "code",
      "source": [
        "np.unique(train_labels)"
      ],
      "metadata": {
        "colab": {
          "base_uri": "https://localhost:8080/"
        },
        "id": "XHNceYKfFSZp",
        "outputId": "786b9d96-7bd2-4909-bf94-7bc4953cdff1"
      },
      "execution_count": 7,
      "outputs": [
        {
          "output_type": "execute_result",
          "data": {
            "text/plain": [
              "array([0, 1, 2, 3, 4, 5, 6, 7, 8, 9], dtype=uint8)"
            ]
          },
          "metadata": {},
          "execution_count": 7
        }
      ]
    },
    {
      "cell_type": "markdown",
      "source": [
        "# Visualization"
      ],
      "metadata": {
        "id": "0wqmLab7tq20"
      }
    },
    {
      "cell_type": "code",
      "source": [
        "plt.figure(figsize = (1,1))\n",
        "\n",
        "plt.imshow(train_images[1])\n"
      ],
      "metadata": {
        "colab": {
          "base_uri": "https://localhost:8080/",
          "height": 123
        },
        "id": "FXicP3vjFWgh",
        "outputId": "54158983-c4d7-4159-8b9c-f2823ced754b"
      },
      "execution_count": 34,
      "outputs": [
        {
          "output_type": "execute_result",
          "data": {
            "text/plain": [
              "<matplotlib.image.AxesImage at 0x7f5ccc793040>"
            ]
          },
          "metadata": {},
          "execution_count": 34
        },
        {
          "output_type": "display_data",
          "data": {
            "text/plain": [
              "<Figure size 72x72 with 1 Axes>"
            ],
            "image/png": "[encoded data removed]"
          },
          "metadata": {
            "needs_background": "light"
          }
        }
      ]
    },
    {
      "cell_type": "code",
      "source": [
        "# plot 4 images as gray scale\n",
        "plt.subplot(221)\n",
        "plt.imshow(train_images[0], cmap=plt.get_cmap('gray'))\n",
        "plt.subplot(222)\n",
        "plt.imshow(train_images[1], cmap=plt.get_cmap('gray'))\n",
        "plt.subplot(223)\n",
        "plt.imshow(train_images[2], cmap=plt.get_cmap('gray'))\n",
        "plt.subplot(224)\n",
        "plt.imshow(train_images[3], cmap=plt.get_cmap('gray'))\n",
        "# show the plot\n",
        "plt.show()"
      ],
      "metadata": {
        "colab": {
          "base_uri": "https://localhost:8080/",
          "height": 268
        },
        "id": "R1Svo5btFahA",
        "outputId": "b2194f86-ef72-4cb6-ef9e-bf20609b87de"
      },
      "execution_count": 35,
      "outputs": [
        {
          "output_type": "display_data",
          "data": {
            "text/plain": [
              "<Figure size 432x288 with 4 Axes>"
            ],
            "image/png": "[encoded data removed]"
          },
          "metadata": {
            "needs_background": "light"
          }
        }
      ]
    },
    {
      "cell_type": "markdown",
      "source": [
        "# Normalising the data"
      ],
      "metadata": {
        "id": "e1YExuo9QEAi"
      }
    },
    {
      "cell_type": "code",
      "source": [
        "train_images = train_images.astype('float32')/255\n",
        "test_images = test_images.astype('float32')/255"
      ],
      "metadata": {
        "id": "PDx3CLclFmJ5"
      },
      "execution_count": 36,
      "outputs": []
    },
    {
      "cell_type": "markdown",
      "source": [
        "# Build the model"
      ],
      "metadata": {
        "id": "pu7Nd7k1D7ue"
      }
    },
    {
      "cell_type": "code",
      "source": [
        "model = Sequential()\n",
        "model.add(Flatten(input_shape=(32,32,3)))\n",
        "model.add(Dense(32, activation ='relu'))\n",
        "model.add(Dense(10, activation = 'softmax'))\n",
        "model.summary()"
      ],
      "metadata": {
        "colab": {
          "base_uri": "https://localhost:8080/"
        },
        "id": "-SKI3qOGGKqC",
        "outputId": "80d59c75-351f-495d-bcaf-5b67f630ae68"
      },
      "execution_count": 37,
      "outputs": [
        {
          "output_type": "stream",
          "name": "stdout",
          "text": [
            "Model: \"sequential_8\"\n",
            "_________________________________________________________________\n",
            " Layer (type)                Output Shape              Param #   \n",
            "=================================================================\n",
            " flatten_2 (Flatten)         (None, 3072)              0         \n",
            "                                                                 \n",
            " dense_8 (Dense)             (None, 32)                98336     \n",
            "                                                                 \n",
            " dense_9 (Dense)             (None, 10)                330       \n",
            "                                                                 \n",
            "=================================================================\n",
            "Total params: 98,666\n",
            "Trainable params: 98,666\n",
            "Non-trainable params: 0\n",
            "_________________________________________________________________\n"
          ]
        }
      ]
    },
    {
      "cell_type": "code",
      "source": [
        "model.compile(optimizer ='adam',loss = 'sparse_categorical_crossentropy')\n",
        "model.fit(train_images,train_labels,epochs=3,batch_size=64)"
      ],
      "metadata": {
        "colab": {
          "base_uri": "https://localhost:8080/"
        },
        "id": "nlIqxwgqGnkr",
        "outputId": "267aa728-acd4-4bd6-a773-3fda3b156d7d"
      },
      "execution_count": 38,
      "outputs": [
        {
          "output_type": "stream",
          "name": "stdout",
          "text": [
            "Epoch 1/3\n",
            "782/782 [==============================] - 3s 3ms/step - loss: 1.9699\n",
            "Epoch 2/3\n",
            "782/782 [==============================] - 3s 4ms/step - loss: 1.8553\n",
            "Epoch 3/3\n",
            "782/782 [==============================] - 3s 3ms/step - loss: 1.8198\n"
          ]
        },
        {
          "output_type": "execute_result",
          "data": {
            "text/plain": [
              "<keras.callbacks.History at 0x7f5cc6a6a7c0>"
            ]
          },
          "metadata": {},
          "execution_count": 38
        }
      ]
    },
    {
      "cell_type": "code",
      "source": [
        "predicted_labels = model.predict(test_images)\n",
        "predicted_labels = np.argmax(predicted_labels,axis = 1)"
      ],
      "metadata": {
        "colab": {
          "base_uri": "https://localhost:8080/"
        },
        "id": "HYmxgX7GGvzt",
        "outputId": "c8ac2f65-233e-4556-8b55-21ca4c9ce007"
      },
      "execution_count": 39,
      "outputs": [
        {
          "output_type": "stream",
          "name": "stdout",
          "text": [
            "313/313 [==============================] - 1s 2ms/step\n"
          ]
        }
      ]
    },
    {
      "cell_type": "code",
      "source": [
        "print(classification_report(test_labels,predicted_labels))"
      ],
      "metadata": {
        "colab": {
          "base_uri": "https://localhost:8080/"
        },
        "id": "tkSsk5XuG0ly",
        "outputId": "0ff5bd37-cc76-4550-f18e-52639e4c9ac4"
      },
      "execution_count": 40,
      "outputs": [
        {
          "output_type": "stream",
          "name": "stdout",
          "text": [
            "              precision    recall  f1-score   support\n",
            "\n",
            "           0       0.41      0.34      0.37      1000\n",
            "           1       0.47      0.38      0.42      1000\n",
            "           2       0.20      0.11      0.14      1000\n",
            "           3       0.26      0.12      0.17      1000\n",
            "           4       0.33      0.24      0.28      1000\n",
            "           5       0.33      0.30      0.31      1000\n",
            "           6       0.35      0.55      0.42      1000\n",
            "           7       0.29      0.58      0.39      1000\n",
            "           8       0.38      0.41      0.40      1000\n",
            "           9       0.43      0.45      0.44      1000\n",
            "\n",
            "    accuracy                           0.35     10000\n",
            "   macro avg       0.34      0.35      0.33     10000\n",
            "weighted avg       0.34      0.35      0.33     10000\n",
            "\n"
          ]
        }
      ]
    },
    {
      "cell_type": "markdown",
      "source": [
        "# Build the CNN model"
      ],
      "metadata": {
        "id": "NMDs5099uMco"
      }
    },
    {
      "cell_type": "code",
      "source": [
        "cnn_model = Sequential()\n",
        "cnn_model.add(Conv2D(32,(4,4),input_shape=(32,32,3),activation ='relu'))\n",
        "cnn_model.add(MaxPooling2D(2,2))\n",
        "cnn_model.add(Conv2D(16,(2,2),activation ='relu'))\n",
        "cnn_model.add(MaxPooling2D(2,2))\n",
        "cnn_model.add(Flatten())\n",
        "\n",
        "cnn_model.add(Dense(10, activation = 'softmax'))\n",
        "cnn_model.summary()"
      ],
      "metadata": {
        "colab": {
          "base_uri": "https://localhost:8080/"
        },
        "id": "nBZaxgZSmy3H",
        "outputId": "cc518a7c-ec41-4089-a84f-5ac5195f5e3f"
      },
      "execution_count": 45,
      "outputs": [
        {
          "output_type": "stream",
          "name": "stdout",
          "text": [
            "Model: \"sequential_10\"\n",
            "_________________________________________________________________\n",
            " Layer (type)                Output Shape              Param #   \n",
            "=================================================================\n",
            " conv2d_10 (Conv2D)          (None, 29, 29, 32)        1568      \n",
            "                                                                 \n",
            " max_pooling2d_10 (MaxPoolin  (None, 14, 14, 32)       0         \n",
            " g2D)                                                            \n",
            "                                                                 \n",
            " conv2d_11 (Conv2D)          (None, 13, 13, 16)        2064      \n",
            "                                                                 \n",
            " max_pooling2d_11 (MaxPoolin  (None, 6, 6, 16)         0         \n",
            " g2D)                                                            \n",
            "                                                                 \n",
            " flatten_4 (Flatten)         (None, 576)               0         \n",
            "                                                                 \n",
            " dense_11 (Dense)            (None, 10)                5770      \n",
            "                                                                 \n",
            "=================================================================\n",
            "Total params: 9,402\n",
            "Trainable params: 9,402\n",
            "Non-trainable params: 0\n",
            "_________________________________________________________________\n"
          ]
        }
      ]
    },
    {
      "cell_type": "code",
      "source": [
        "cnn_model.compile(optimizer = 'adam',loss = 'sparse_categorical_crossentropy')\n",
        "cnn_model.fit(train_images,train_labels, epochs = 5, batch_size = 64)"
      ],
      "metadata": {
        "colab": {
          "base_uri": "https://localhost:8080/"
        },
        "id": "4nT0UPItmy6b",
        "outputId": "bde78790-db63-4df3-8b14-65c11de000c2"
      },
      "execution_count": 46,
      "outputs": [
        {
          "output_type": "stream",
          "name": "stdout",
          "text": [
            "Epoch 1/5\n",
            "782/782 [==============================] - 39s 50ms/step - loss: 1.6884\n",
            "Epoch 2/5\n",
            "782/782 [==============================] - 37s 48ms/step - loss: 1.3887\n",
            "Epoch 3/5\n",
            "782/782 [==============================] - 37s 48ms/step - loss: 1.3039\n",
            "Epoch 4/5\n",
            "782/782 [==============================] - 37s 47ms/step - loss: 1.2501\n",
            "Epoch 5/5\n",
            "782/782 [==============================] - 37s 47ms/step - loss: 1.2007\n"
          ]
        },
        {
          "output_type": "execute_result",
          "data": {
            "text/plain": [
              "<keras.callbacks.History at 0x7f5cc6026340>"
            ]
          },
          "metadata": {},
          "execution_count": 46
        }
      ]
    },
    {
      "cell_type": "code",
      "source": [
        "predicted_labels = cnn_model.predict(test_images)\n",
        "predicted_labels = np.argmax(predicted_labels,axis = 1)"
      ],
      "metadata": {
        "colab": {
          "base_uri": "https://localhost:8080/"
        },
        "id": "nsr_1Bkymy9k",
        "outputId": "17589382-0ce0-444d-ae40-cedf09722735"
      },
      "execution_count": 47,
      "outputs": [
        {
          "output_type": "stream",
          "name": "stdout",
          "text": [
            "313/313 [==============================] - 3s 9ms/step\n"
          ]
        }
      ]
    },
    {
      "cell_type": "code",
      "source": [
        "print(classification_report(test_labels,predicted_labels))"
      ],
      "metadata": {
        "colab": {
          "base_uri": "https://localhost:8080/"
        },
        "id": "XUi0kroOmzAl",
        "outputId": "2d0d1bf0-6999-4204-baff-b0545ab888bc"
      },
      "execution_count": 48,
      "outputs": [
        {
          "output_type": "stream",
          "name": "stdout",
          "text": [
            "              precision    recall  f1-score   support\n",
            "\n",
            "           0       0.65      0.58      0.62      1000\n",
            "           1       0.74      0.70      0.72      1000\n",
            "           2       0.44      0.34      0.38      1000\n",
            "           3       0.43      0.36      0.39      1000\n",
            "           4       0.41      0.67      0.51      1000\n",
            "           5       0.55      0.47      0.51      1000\n",
            "           6       0.58      0.79      0.67      1000\n",
            "           7       0.66      0.60      0.63      1000\n",
            "           8       0.68      0.65      0.67      1000\n",
            "           9       0.70      0.59      0.65      1000\n",
            "\n",
            "    accuracy                           0.58     10000\n",
            "   macro avg       0.58      0.58      0.57     10000\n",
            "weighted avg       0.58      0.58      0.57     10000\n",
            "\n"
          ]
        }
      ]
    },
    {
      "cell_type": "code",
      "source": [],
      "metadata": {
        "id": "YxcKjlkPmzEH"
      },
      "execution_count": null,
      "outputs": []
    },
    {
      "cell_type": "code",
      "source": [],
      "metadata": {
        "id": "GS-a4CLomzHP"
      },
      "execution_count": null,
      "outputs": []
    },
    {
      "cell_type": "code",
      "source": [],
      "metadata": {
        "id": "311tpiwEmzKp"
      },
      "execution_count": null,
      "outputs": []
    },
    {
      "cell_type": "code",
      "source": [],
      "metadata": {
        "id": "rd4_tFCzmzQF"
      },
      "execution_count": null,
      "outputs": []
    },
    {
      "cell_type": "code",
      "source": [],
      "metadata": {
        "id": "ekIuaXjEmzTl"
      },
      "execution_count": null,
      "outputs": []
    }
  ]
}